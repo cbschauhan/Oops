{
 "cells": [
  {
   "cell_type": "markdown",
   "id": "d9ec6e8c",
   "metadata": {},
   "source": [
    "# Object-Oriented Programming(OOP) in Python"
   ]
  },
  {
   "cell_type": "markdown",
   "id": "be2a53d8",
   "metadata": {},
   "source": [
    "## Classes and Objects: Core Concepts\n",
    "Object-Oriented Programming (OOP) is one of the most important\n",
    "paradigms in Python and is widely used in both small and large projects. It\n",
    "allows developers to model real-world entities as objects and their\n",
    "behaviors through classes."
   ]
  },
  {
   "cell_type": "markdown",
   "id": "7ad712bd",
   "metadata": {},
   "source": [
    "## What Is OOP?\n",
    "\n",
    "Object-Oriented Programming is a way of organizing and structuring code\n",
    "by treating data and behavior as entities. In OOP, data is represented by\n",
    "objects, and behaviors are encapsulated in functions called methods, all of\n",
    "which are defined within a class."
   ]
  },
  {
   "cell_type": "markdown",
   "id": "e0233682",
   "metadata": {},
   "source": [
    "**OOP focuses on the following fundamental principles:**\n",
    "\n",
    "- Class\n",
    "- Object\n",
    "- Encapsulation\n",
    "- Abstraction\n",
    "- inheritance\n",
    "- Polymorphism"
   ]
  },
  {
   "cell_type": "markdown",
   "id": "5adca0e4",
   "metadata": {},
   "source": [
    "### Class -: \n",
    "A class in python is a blueprint for creating object.It defines the properties\n",
    "and behaviors (attributes and methods) that objects created from the class\n",
    "will have. The class keyword is used to define a class.\n",
    "\n",
    "Class is a user define datatype. Which consists of data mamber and mamber function.which can access and use by creating instance of object."
   ]
  },
  {
   "cell_type": "code",
   "execution_count": 14,
   "id": "4a4d5a2f",
   "metadata": {},
   "outputs": [],
   "source": [
    "#  Ex- :\n",
    "class Student:   #  Define the class\n",
    "    name='Ram'"
   ]
  },
  {
   "cell_type": "code",
   "execution_count": 8,
   "id": "76a49756",
   "metadata": {},
   "outputs": [],
   "source": [
    "class Car:\n",
    "    # Constructor to initialize attributes\n",
    "    def __init__(self, make, model, year):\n",
    "        self.make = make\n",
    "        self.model = model\n",
    "        self.year = year\n",
    "    # Method to display car details\n",
    "    def display_info(self):\n",
    "        print(f\"This car is a {self.year} {self.make} {self.model}\")"
   ]
  },
  {
   "cell_type": "markdown",
   "id": "e8912b4e",
   "metadata": {},
   "source": [
    "**In the above example, the class Car has three attributes: make, model,\n",
    "and year. It also has one method display_info, which prints the car\n",
    "details.**"
   ]
  },
  {
   "cell_type": "markdown",
   "id": "e38aa373",
   "metadata": {},
   "source": [
    "### Object\n",
    "\n",
    "An Object is an Instance of a class. It is a basic unit of Oops and realtime Entities.\n",
    "\n",
    "Once a class is defined, you can create multiple objects from it. Each object represents an individual instance of the class, with its own attributes and behaviors."
   ]
  },
  {
   "cell_type": "markdown",
   "id": "2325e7e3",
   "metadata": {},
   "source": [
    "When a class is define, no memory is allocated but when it is instanlited (Object is Created) Memory is allocated"
   ]
  },
  {
   "cell_type": "code",
   "execution_count": 15,
   "id": "b610d238",
   "metadata": {},
   "outputs": [
    {
     "name": "stdout",
     "output_type": "stream",
     "text": [
      "Ram\n"
     ]
    }
   ],
   "source": [
    "S1=Student()\n",
    "print(S1.name)"
   ]
  },
  {
   "cell_type": "code",
   "execution_count": 16,
   "id": "02f7420e",
   "metadata": {},
   "outputs": [],
   "source": [
    "my_car = Car(\"Toyota\", \"Corolla\", 2020)"
   ]
  },
  {
   "cell_type": "code",
   "execution_count": 17,
   "id": "e143b39c",
   "metadata": {},
   "outputs": [
    {
     "name": "stdout",
     "output_type": "stream",
     "text": [
      "This car is a 2020 Toyota Corolla\n"
     ]
    }
   ],
   "source": [
    "my_car.display_info()"
   ]
  },
  {
   "cell_type": "markdown",
   "id": "f1158596",
   "metadata": {},
   "source": [
    "## __init __ Method (Constructor)"
   ]
  },
  {
   "cell_type": "markdown",
   "id": "d07e10d4",
   "metadata": {},
   "source": [
    "- The __init __ method is a special method in Python classes known as a constructor. It is called automatically when an object is created, and it is used to initialize the attributes of the class."
   ]
  },
  {
   "cell_type": "code",
   "execution_count": 18,
   "id": "3b093e44",
   "metadata": {},
   "outputs": [
    {
     "name": "stdout",
     "output_type": "stream",
     "text": [
      "Toyota\n",
      "Corolla\n",
      "2020\n"
     ]
    }
   ],
   "source": [
    "class Car:\n",
    "    def __init__(self):\n",
    "\n",
    "        #Initialize the Car with default attributes\n",
    "        self.make = \"Toyota\"\n",
    "        self.model = \"Corolla\"\n",
    "        self.year = 2020\n",
    "\n",
    "# Creating an instance using the default constructor\n",
    "car = Car()\n",
    "print(car.make)\n",
    "print(car.model)\n",
    "print(car.year)"
   ]
  },
  {
   "cell_type": "markdown",
   "id": "09943b4d",
   "metadata": {},
   "source": [
    "### Constructor\n",
    "Constructor is a special method that is called automatically when an object is created.\n",
    "\n",
    "A constructor is a special type of method in a class that gets called\n",
    "automatically whenever a new object is created. In Python, the constructor\n",
    "is implemented using the __init__ method. This method is used to\n",
    "initialize the object’s attributes and perform any setup actions necessary\n",
    "when the object is instantiated.\n",
    "\n",
    "\n",
    "**Two type of Constructor**\n",
    "\n",
    "- Default Constructor\n",
    "- Parmetrizers Constructor"
   ]
  },
  {
   "cell_type": "code",
   "execution_count": 19,
   "id": "196c62c7",
   "metadata": {},
   "outputs": [],
   "source": [
    "# Default Constructor\n",
    "class Car:\n",
    "    def __init__(self):\n",
    "\n",
    "        #Initialize the Car with default attributes\n",
    "        self.make = \"Toyota\"\n",
    "        self.model = \"Corolla\"\n",
    "        self.year = 2020\n",
    "\n",
    "# Creating an instance using the default constructor\n",
    "car = Car()\n",
    "print(car.make)\n",
    "print(car.model)\n",
    "print(car.year)"
   ]
  },
  {
   "cell_type": "code",
   "execution_count": 20,
   "id": "1ac3fabd",
   "metadata": {},
   "outputs": [
    {
     "name": "stdout",
     "output_type": "stream",
     "text": [
      "Toyota\n",
      "Corolla\n",
      "2020\n"
     ]
    }
   ],
   "source": [
    "# Parmetrizers Constructor \n",
    "class Car:\n",
    "    def __init__(self,make, model, year):\n",
    "\n",
    "        #Initialize the Car with default attributes\n",
    "        self.make = make\n",
    "        self.model = model\n",
    "        self.year = year\n",
    "\n",
    "# Creating an instance using the default constructor\n",
    "car = Car('Toyota', 'Corolla', 2020)\n",
    "print(car.make)\n",
    "print(car.model)\n",
    "print(car.year)"
   ]
  },
  {
   "cell_type": "markdown",
   "id": "716a4fd5",
   "metadata": {},
   "source": [
    "### Constructor Overloading\n",
    "Python does not support constructor overloading in the traditional sense\n",
    "(like other programming languages such as Java or C++), but you can\n",
    "achieve similar behavior by using default arguments or by checking the\n",
    "number of arguments passed."
   ]
  },
  {
   "cell_type": "code",
   "execution_count": 44,
   "id": "6b553ea3",
   "metadata": {},
   "outputs": [
    {
     "name": "stdout",
     "output_type": "stream",
     "text": [
      "Area of default rectangle: 1\n",
      "Area of 5x10 rectangle: 50\n"
     ]
    }
   ],
   "source": [
    "class Rectangle:\n",
    "    def __init__(self, length=0, width=0):\n",
    "        if length == 0 and width == 0:\n",
    "            self.length = 1\n",
    "            self.width = 1 # Default values for both length and width\n",
    "        else:\n",
    "            self.length = length\n",
    "            self.width = width\n",
    "    def area(self):\n",
    "        return self.length * self.width\n",
    "# Creating rectangles with different sets of parameters\n",
    "rect1 = Rectangle()\n",
    "print(f\"Area of default rectangle: {rect1.area()}\")\n",
    "rect2 = Rectangle(5, 10)\n",
    "print(f\"Area of 5x10 rectangle: {rect2.area()}\")"
   ]
  },
  {
   "cell_type": "markdown",
   "id": "5f3b3bf0",
   "metadata": {},
   "source": [
    "### Destructors\n",
    "Destructors in Python are used for clean-up operations before an object is\n",
    "destroyed. A destructor is defined by the __del__ method, which is called\n",
    "when an object is about to be destroyed, either when it goes out of scope or\n",
    "when the program terminates"
   ]
  },
  {
   "cell_type": "markdown",
   "id": "447b39b2",
   "metadata": {},
   "source": [
    "### The __del__ Method\n",
    "The __del__ method is automatically invoked when an object is no longer needed. Here’s an example of how destructors work:\n"
   ]
  },
  {
   "cell_type": "code",
   "execution_count": 46,
   "id": "d66bb4ea",
   "metadata": {},
   "outputs": [
    {
     "name": "stdout",
     "output_type": "stream",
     "text": [
      "File test.txt opened.\n",
      "File closed.\n"
     ]
    }
   ],
   "source": [
    "class FileHandler:\n",
    "    def __init__(self, filename):\n",
    "        self.file = open(filename, 'w')\n",
    "        print(f\"File {filename} opened.\")\n",
    "    def write_data(self, data):\n",
    "        self.file.write(data)\n",
    "    def __del__(self):\n",
    "        self.file.close()\n",
    "        print(\"File closed.\")\n",
    "# Creating an object of the FileHandler class\n",
    "file_handler = FileHandler('test.txt')\n",
    "file_handler.write_data('Hello, world!')\n",
    "# Destructor will be called when file_handler goes out of scope or programends\n"
   ]
  },
  {
   "cell_type": "markdown",
   "id": "8f6b64d2",
   "metadata": {},
   "source": [
    "## Attributes\n",
    "\n",
    "These are variables that hold data specific to an object. In our example, make, model, year, and fuel_type are attributes.\n",
    "\n",
    "Two type of Attributes\n",
    "- class Attributes\n",
    "- instance Attributes"
   ]
  },
  {
   "cell_type": "markdown",
   "id": "5f09f4d8",
   "metadata": {},
   "source": [
    "### class Attributes: \n",
    "These are shared across all instances of a class.\n",
    "You define class variables directly inside the class but outside of any\n",
    "methods. \n",
    "\n",
    "For example:"
   ]
  },
  {
   "cell_type": "code",
   "execution_count": 21,
   "id": "ff12f7b6",
   "metadata": {},
   "outputs": [
    {
     "name": "stdout",
     "output_type": "stream",
     "text": [
      "4\n",
      "4\n"
     ]
    }
   ],
   "source": [
    "class Car:\n",
    "    wheels = 4 # This is a class variable\n",
    "    def __init__(self, make, model, year):\n",
    "        self.make = make\n",
    "        self.model = model\n",
    "        self.year = year\n",
    "# All Car objects share the class variable 'wheels'\n",
    "car1 = Car(\"Ford\", \"Fiesta\", 2019)\n",
    "car2 = Car(\"Tesla\", \"Model S\", 2023)\n",
    "print(car1.wheels) # Output: 4\n",
    "print(car2.wheels) # Output: 4\n"
   ]
  },
  {
   "cell_type": "code",
   "execution_count": 25,
   "id": "bf4b81cc",
   "metadata": {},
   "outputs": [
    {
     "name": "stdout",
     "output_type": "stream",
     "text": [
      "India\n",
      "India\n"
     ]
    }
   ],
   "source": [
    "class Address:\n",
    "    Country='India'\n",
    "    def __init__(self, State, dist):\n",
    "        self.State=State\n",
    "        self.dist=dist\n",
    "Add1=Address('Rajasthan','Dausa')\n",
    "Add2=Address('Panjab', 'Chandigarh')\n",
    "print(Add1.Country)\n",
    "print(Add2.Country)\n"
   ]
  },
  {
   "cell_type": "markdown",
   "id": "4be7232c",
   "metadata": {},
   "source": [
    "### instance Attributes\n",
    "These are unique to each object. In the Car\n",
    "class, make, model, year, and mileage are instance variables,\n",
    "which means each object of the class can have different values for\n",
    "these attributes."
   ]
  },
  {
   "cell_type": "code",
   "execution_count": 27,
   "id": "82f134fe",
   "metadata": {},
   "outputs": [
    {
     "name": "stdout",
     "output_type": "stream",
     "text": [
      "Fiesta\n",
      "Model S\n"
     ]
    }
   ],
   "source": [
    "class Car:\n",
    "    wheels = 4 # This is a class variable\n",
    "    def __init__(self, make, model, year):\n",
    "        self.make = make   # This is a instance variable\n",
    "        self.model = model\n",
    "        self.year = year\n",
    "# All Car objects share the instance variable \n",
    "car1 = Car(\"Ford\", \"Fiesta\", 2019)\n",
    "car2 = Car(\"Tesla\", \"Model S\", 2023)\n",
    "print(car1.model) # Output: 4\n",
    "print(car2.model) # Output: 4"
   ]
  },
  {
   "cell_type": "markdown",
   "id": "98d85131",
   "metadata": {},
   "source": [
    "### Private attrinutes and method\n",
    "Private attributes and method are meant to be used only eithin the class and not accessible from outside the class."
   ]
  },
  {
   "cell_type": "markdown",
   "id": "07fb68c5",
   "metadata": {},
   "source": [
    "it can write by dubble underscore\n",
    "\n",
    "__attrinutes_name"
   ]
  },
  {
   "cell_type": "markdown",
   "id": "0422b350",
   "metadata": {},
   "source": [
    "## Methods"
   ]
  },
  {
   "cell_type": "markdown",
   "id": "1ffbb7b5",
   "metadata": {},
   "source": [
    "Functions defined inside a class that describe the behaviors of an object. For example, display_info and drive are methods that define the actions that a Car object can perform."
   ]
  },
  {
   "cell_type": "markdown",
   "id": "1f74666a",
   "metadata": {},
   "source": [
    "Method are the function that belong to object."
   ]
  },
  {
   "cell_type": "markdown",
   "id": "da335351",
   "metadata": {},
   "source": [
    "Python in meny method are used:\n",
    "\n",
    "- Getter and Setter\n",
    "- super"
   ]
  },
  {
   "cell_type": "markdown",
   "id": "bcb8232a",
   "metadata": {},
   "source": [
    "# Encapsulation\n",
    "\n",
    "Grouping data (attributes) and functions (methods) that operate on the data within a class. This makes the internal workings of objects hidden from the outside, protecting the data from accidental modifications.\n"
   ]
  },
  {
   "cell_type": "markdown",
   "id": "53037298",
   "metadata": {},
   "source": [
    "Wrapping data and function into a single unit (object)"
   ]
  },
  {
   "cell_type": "markdown",
   "id": "6e69d4fe",
   "metadata": {},
   "source": [
    "### Getter and Setter in Python\n",
    "In Python, getters and setters are not the same as those in other object-oriented programming languages. Basically, the main purpose of using getters and setters in object-oriented programs is to ensure data encapsulation. Private variables in python are not actually hidden fields like in other object oriented languages. Getters and Setters in python are often used when:\n",
    "\n",
    "We use getters & setters to add validation logic around getting and setting a value.\n",
    "To avoid direct access of a class field i.e. private variables cannot be accessed directly or modified by external user."
   ]
  },
  {
   "cell_type": "code",
   "execution_count": 32,
   "id": "719cf069",
   "metadata": {},
   "outputs": [
    {
     "name": "stdout",
     "output_type": "stream",
     "text": [
      "ram\n"
     ]
    }
   ],
   "source": [
    "class Student:\n",
    "    def __init__(self):\n",
    "        self.__name=\"\"\n",
    "    def gatname(self):   # use getter mathod\n",
    "        return self.__name\n",
    "    def setname(self,name):   # use setter mathod\n",
    "        self.__name=name\n",
    "obj=Student()\n",
    "obj.setname(\"ram\")\n",
    "#print(obj.gatname())\n",
    "name= obj.gatname()\n",
    "print(name)"
   ]
  },
  {
   "cell_type": "code",
   "execution_count": 42,
   "id": "48c1b4ad",
   "metadata": {},
   "outputs": [
    {
     "name": "stdout",
     "output_type": "stream",
     "text": [
      "10\n"
     ]
    },
    {
     "ename": "AttributeError",
     "evalue": "'Person' object has no attribute '__age'",
     "output_type": "error",
     "traceback": [
      "\u001b[1;31m---------------------------------------------------------------------------\u001b[0m",
      "\u001b[1;31mAttributeError\u001b[0m                            Traceback (most recent call last)",
      "Cell \u001b[1;32mIn[42], line 15\u001b[0m\n\u001b[0;32m     13\u001b[0m obj\u001b[38;5;241m.\u001b[39mset_age(\u001b[38;5;241m10\u001b[39m)\n\u001b[0;32m     14\u001b[0m \u001b[38;5;28mprint\u001b[39m(obj\u001b[38;5;241m.\u001b[39mget_age())\n\u001b[1;32m---> 15\u001b[0m \u001b[38;5;28mprint\u001b[39m(obj\u001b[38;5;241m.\u001b[39m__age)\n",
      "\u001b[1;31mAttributeError\u001b[0m: 'Person' object has no attribute '__age'"
     ]
    }
   ],
   "source": [
    "class Person:\n",
    "    def __init__(self,age=0):\n",
    "        self.__age=age\n",
    "        \n",
    "    #Getter method\n",
    "    def get_age(self):\n",
    "        return self.__age\n",
    "        \n",
    "    #setter method\n",
    "    def set_age(self,X):\n",
    "        self.__age=X\n",
    "obj=Person()\n",
    "obj.set_age(10)\n",
    "print(obj.get_age())\n",
    "print(obj.__age)"
   ]
  },
  {
   "cell_type": "code",
   "execution_count": 43,
   "id": "4ab1a2ff",
   "metadata": {},
   "outputs": [
    {
     "name": "stdout",
     "output_type": "stream",
     "text": [
      "1967\n",
      "2020\n"
     ]
    }
   ],
   "source": [
    "class Car:\n",
    "    def __init__(self, make, model, year):\n",
    "        self.make = make\n",
    "        self.model = model\n",
    "        self.__year = year # Private attribute\n",
    "    def get_year(self):\n",
    "        return self.__year # Getter method\n",
    "    def set_year(self, year):\n",
    "        if year > 1885: # Simple validation\n",
    "            self.__year = year\n",
    "        else:\n",
    "            print(\"Invalid year.\")\n",
    "# You can now safely get and set the year attribute:\n",
    "my_car = Car(\"Chevy\", \"Impala\", 1967)\n",
    "print(my_car.get_year()) # Output: 1967\n",
    "my_car.set_year(2020) # Changing the year to 2020\n",
    "print(my_car.get_year()) # Output: 2020\n"
   ]
  },
  {
   "cell_type": "markdown",
   "id": "65ea92c8",
   "metadata": {},
   "source": [
    "# Abstraction"
   ]
  },
  {
   "cell_type": "markdown",
   "id": "ffa30a53",
   "metadata": {},
   "source": [
    "Abstraction is used to hide the internal functionality of the function from the users. The users only interact with the basic implementation of the function, but inner working is hidden. User is familiar with that \"what function does\" but they don't know \"how it does.\"\n",
    "\n",
    "In simple words, we all use the smartphone and very much familiar with its functions such as camera, voice-recorder, call-dialing, etc., but we don't know how these operations are happening in the background. Let's take another example - When we use the TV remote to increase the volume. We don't know how pressing a key increases the volume of the TV. We only know to press the \"+\" button to increase the volume."
   ]
  },
  {
   "cell_type": "markdown",
   "id": "75ddb8b5",
   "metadata": {},
   "source": [
    "### Abstraction classes in Python\n",
    "\n",
    "A class that consists of one or more abstract method is called the abstract class. Abstract methods do not contain their implementation. "
   ]
  },
  {
   "cell_type": "code",
   "execution_count": 49,
   "id": "9034eedf",
   "metadata": {},
   "outputs": [],
   "source": [
    "from abc import ABC, abstractmethod\n",
    "class Shape(ABC):\n",
    "    @abstractmethod\n",
    "    def area(self):\n",
    "        pass\n",
    "    @abstractmethod\n",
    "    def perimeter(self):\n",
    "        pass"
   ]
  },
  {
   "cell_type": "markdown",
   "id": "f685fd51",
   "metadata": {},
   "source": [
    "# inheritance\n",
    " Creating new classes based on existing classes to reuse code and extend functionality. This allows a subclass to inherit methods and properties from a parent class.\n"
   ]
  },
  {
   "cell_type": "markdown",
   "id": "88f6ba72",
   "metadata": {},
   "source": [
    "In which one class inheret the property of Other class."
   ]
  },
  {
   "cell_type": "code",
   "execution_count": 51,
   "id": "9e41da15",
   "metadata": {},
   "outputs": [
    {
     "name": "stdout",
     "output_type": "stream",
     "text": [
      "Rex, the Golden Retriever, barks.\n"
     ]
    }
   ],
   "source": [
    "class Animal:\n",
    "    def __init__(self, name):\n",
    "        self.name = name\n",
    "    def speak(self):\n",
    "        print(f\"{self.name} makes a sound.\")\n",
    "# Child class inheriting from Animal\n",
    "class Dog(Animal):\n",
    "    def __init__(self, name, breed):\n",
    "        super().__init__(name) # Call the parent class constructor\n",
    "        self.breed = breed\n",
    "    def speak(self):\n",
    "        print(f\"{self.name}, the {self.breed}, barks.\")\n",
    "# Creating objects of the child class\n",
    "dog = Dog(\"Rex\", \"Golden Retriever\")\n",
    "dog.speak()"
   ]
  },
  {
   "cell_type": "markdown",
   "id": "ba960ffc",
   "metadata": {},
   "source": [
    "### Types of Inheritance\n",
    "Python supports different types of inheritance, each offering flexibility in\n",
    "how you design your class hierarchies. The main types of inheritance are:\n",
    "1. **Single Inheritance:** A child class inherits from only one parent class.\n",
    "2. **Multiple Inheritance:** A child class inherits from more than one parent class.\n",
    "3. **Multilevel Inheritance:** A child class inherits from a parent class, which itself inherits from another parent class.\n",
    "4. **Hierarchical Inheritance:** Multiple child classes inherit from the same parent class.\n",
    "5. **Hybrid Inheritance:** A combination of more than one type of inheritance."
   ]
  },
  {
   "cell_type": "markdown",
   "id": "8e8c9301",
   "metadata": {},
   "source": [
    "### Super method\n",
    "\n",
    "super() method are use to access methos of the parent class.\n",
    "\n",
    "When dealing with inheritance, constructors can become more complex. The super() function is used to call the constructor of the parent class in child classes. This allows the child class to inherit and initialize the attributes and methods of the parent class while adding its own functionality.\n"
   ]
  },
  {
   "cell_type": "code",
   "execution_count": 67,
   "id": "c3a9d6fa",
   "metadata": {},
   "outputs": [
    {
     "name": "stdout",
     "output_type": "stream",
     "text": [
      "Car start....\n",
      "sf\n"
     ]
    }
   ],
   "source": [
    "class Car:\n",
    "    def __init__(self,type):\n",
    "        self.type=type\n",
    "    \n",
    "    @staticmethod\n",
    "    def start():\n",
    "        print(\"Car start....\")\n",
    "    \n",
    "    @staticmethod\n",
    "    def stop():\n",
    "        print(\"Car stop....\")\n",
    "    \n",
    "class Toyotacar(Car):\n",
    "    def __init__(self,name, type):\n",
    "        super().__init__(type)\n",
    "        self.name=name\n",
    "        super().start()\n",
    "    \n",
    "c1=Toyotacar(\"ad\", 'sf')\n",
    "print(c1.type)"
   ]
  },
  {
   "cell_type": "markdown",
   "id": "51a607b2",
   "metadata": {},
   "source": [
    "# Polymorphism\n",
    "(Operator Overloading)\n",
    "The word polymorphism means having many forms. In programming, polymorphism means the same function name (but different signatures) being used for different types. The key difference is the data types and number of arguments used in function."
   ]
  },
  {
   "cell_type": "markdown",
   "id": "b5d16528",
   "metadata": {},
   "source": [
    "when the same operator is allowed to have different meaning according to context."
   ]
  },
  {
   "cell_type": "markdown",
   "id": "3f0a2c2f",
   "metadata": {},
   "source": [
    "(Operator Overloading)"
   ]
  },
  {
   "cell_type": "code",
   "execution_count": 62,
   "id": "3c635703",
   "metadata": {},
   "outputs": [
    {
     "name": "stdout",
     "output_type": "stream",
     "text": [
      "4 i + 5 j\n",
      "5 i + 5 j\n"
     ]
    }
   ],
   "source": [
    "class Student:\n",
    "    def __init__(self,real,img):\n",
    "        self.real=real\n",
    "        self.img=img\n",
    "        \n",
    "    def shownumber(self):\n",
    "        print(self.real,\"i +\",self.img,'j')\n",
    "num1=Student(4,5)\n",
    "num1.shownumber()\n",
    "    \n",
    "num2=Student(5,5)\n",
    "num2.shownumber()"
   ]
  },
  {
   "cell_type": "code",
   "execution_count": 63,
   "id": "1fc95c20",
   "metadata": {},
   "outputs": [
    {
     "ename": "SyntaxError",
     "evalue": "invalid syntax (3579888929.py, line 1)",
     "output_type": "error",
     "traceback": [
      "\u001b[1;36m  Cell \u001b[1;32mIn[63], line 1\u001b[1;36m\u001b[0m\n\u001b[1;33m    Operatoes & Dunder function\u001b[0m\n\u001b[1;37m                       ^\u001b[0m\n\u001b[1;31mSyntaxError\u001b[0m\u001b[1;31m:\u001b[0m invalid syntax\n"
     ]
    }
   ],
   "source": [
    "Operatoes & Dunder function\n",
    "\n",
    "a+b -->    a.__add__(b)\n",
    "a-b -->    a.__sub__(b)\n",
    "a*b -->    a.__mul__(b)\n",
    "a/b -->    a.__truediv__(b)\n",
    "a%b -->    a.__mod__(b)"
   ]
  },
  {
   "cell_type": "code",
   "execution_count": 64,
   "id": "038c8761",
   "metadata": {},
   "outputs": [
    {
     "name": "stdout",
     "output_type": "stream",
     "text": [
      "4 i + 5 j\n",
      "5 i + 5 j\n",
      "9 i + 10 j\n"
     ]
    }
   ],
   "source": [
    "class Complex:\n",
    "    def __init__(self,real,img):\n",
    "        self.real=real\n",
    "        self.img=img\n",
    "        \n",
    "    def shownumber(self):\n",
    "        print(self.real,\"i +\",self.img,'j')\n",
    "        \n",
    "    def add(self,num2):  # Dunder function\n",
    "        newReal=self.real+num2.real\n",
    "        newImg=self.img+num2.img\n",
    "        return Complex(newReal, newImg)\n",
    "    \n",
    "num1=Complex(4,5)\n",
    "num1.shownumber()\n",
    "    \n",
    "num2=Complex(5,5)\n",
    "num2.shownumber()\n",
    "\n",
    "num3=num1.add(num2)\n",
    "num3.shownumber()"
   ]
  },
  {
   "cell_type": "markdown",
   "id": "66706c5b",
   "metadata": {},
   "source": [
    "### Duck Typing in Python\n",
    "\n",
    "Duck typing is an informal approach to polymorphism in Python. The name comes from the saying: \"If it looks like a duck and quacks like a duck, it probably is a duck.\" Python’s dynamic typing system allows you to pass objects to a function without concern for their type, as long as they support the expected methods."
   ]
  },
  {
   "cell_type": "code",
   "execution_count": 70,
   "id": "086dbc80",
   "metadata": {},
   "outputs": [
    {
     "ename": "IndentationError",
     "evalue": "expected an indented block after function definition on line 8 (2698151784.py, line 10)",
     "output_type": "error",
     "traceback": [
      "\u001b[1;36m  Cell \u001b[1;32mIn[70], line 10\u001b[1;36m\u001b[0m\n\u001b[1;33m    duck = Duck()\u001b[0m\n\u001b[1;37m                 ^\u001b[0m\n\u001b[1;31mIndentationError\u001b[0m\u001b[1;31m:\u001b[0m expected an indented block after function definition on line 8\n"
     ]
    }
   ],
   "source": [
    "class Duck:\n",
    "    def sound(self):\n",
    "        print(\"Quack!\")\n",
    "class Car:\n",
    "    def sound(self):\n",
    "        print(\"Vroom!\")\n",
    "    # Function demonstrating duck typing\n",
    "    def make_sound(obj):\n",
    "\n",
    "duck = Duck()\n",
    "car = Car()\n",
    "obj.sound()\n",
    "make_sound(duck)\n",
    "make_sound(car)"
   ]
  },
  {
   "cell_type": "markdown",
   "id": "37a186c1",
   "metadata": {},
   "source": [
    "## Decorators\n",
    "Decorators are a powerful feature in Python that allow you to modify or extend the behavior of functions or methods without changing their actual code. They can be used to apply reusable functionality across multiple functions, such as timing, caching, logging, or authentication. "
   ]
  },
  {
   "cell_type": "markdown",
   "id": "432f3292",
   "metadata": {},
   "source": [
    "- @staticmethod\n",
    "- @classmethod\n",
    "- @property"
   ]
  },
  {
   "cell_type": "code",
   "execution_count": 71,
   "id": "8beb023d",
   "metadata": {},
   "outputs": [
    {
     "name": "stdout",
     "output_type": "stream",
     "text": [
      "Caser sdc\n"
     ]
    }
   ],
   "source": [
    "#  staticmethod\n",
    "\n",
    "class Car:\n",
    "    def __init__(self, type):\n",
    "        self.type=type\n",
    "    \n",
    "    @staticmethod\n",
    "    def start():\n",
    "        print(\"Start..\")\n",
    "    \n",
    "    @staticmethod\n",
    "    def stop():\n",
    "        print(\"stop.....\")\n",
    "\n",
    "class Toyotacar(Car):\n",
    "    def __init__(self,name,type):\n",
    "        self.name=name\n",
    "        super().__init__(type)\n",
    "        \n",
    "C1=Toyotacar('Caser','sdc')\n",
    "print(C1.name,C1.type)"
   ]
  },
  {
   "cell_type": "code",
   "execution_count": 72,
   "id": "89934eb7",
   "metadata": {},
   "outputs": [
    {
     "name": "stdout",
     "output_type": "stream",
     "text": [
      "Sita\n",
      "Sita\n"
     ]
    }
   ],
   "source": [
    "#  classmethod\n",
    "\n",
    "class  Student:\n",
    "    name=\"Ram\"\n",
    "    @classmethod             #decorator\n",
    "    def changename(cls, name):\n",
    "        cls.name=name\n",
    "        \n",
    "C1=Student()\n",
    "C1.changename('Sita')\n",
    "print(C1.name)\n",
    "print(Student.name)"
   ]
  },
  {
   "cell_type": "code",
   "execution_count": 78,
   "id": "0ebe3a00",
   "metadata": {},
   "outputs": [
    {
     "name": "stdout",
     "output_type": "stream",
     "text": [
      "98\n",
      "91.0\n"
     ]
    }
   ],
   "source": [
    "#    property\n",
    "class Student:\n",
    "    def __init__(self, phy, ch, math):\n",
    "        self.phy = phy\n",
    "        self.ch = ch\n",
    "        self.math = math\n",
    "\n",
    "    @property\n",
    "    def Cal_persentage(self):\n",
    "        return (self.phy + self.ch + self.math) / 3\n",
    "\n",
    "zx = Student(98, 88, 99)\n",
    "print(zx.phy)          # Output: 98\n",
    "\n",
    "zx.phy = 86\n",
    "print(zx.Cal_persentage)  # Output: 91.0\n"
   ]
  },
  {
   "cell_type": "code",
   "execution_count": null,
   "id": "629b197a",
   "metadata": {},
   "outputs": [],
   "source": []
  }
 ],
 "metadata": {
  "kernelspec": {
   "display_name": "Python 3 (ipykernel)",
   "language": "python",
   "name": "python3"
  },
  "language_info": {
   "codemirror_mode": {
    "name": "ipython",
    "version": 3
   },
   "file_extension": ".py",
   "mimetype": "text/x-python",
   "name": "python",
   "nbconvert_exporter": "python",
   "pygments_lexer": "ipython3",
   "version": "3.11.5"
  }
 },
 "nbformat": 4,
 "nbformat_minor": 5
}
